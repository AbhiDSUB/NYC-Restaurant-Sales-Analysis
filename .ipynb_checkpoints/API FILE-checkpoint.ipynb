{
 "cells": [
  {
   "cell_type": "code",
   "execution_count": 2,
   "id": "c114afd0",
   "metadata": {},
   "outputs": [
    {
     "name": "stdout",
     "output_type": "stream",
     "text": [
      "Excel file '/Users/Abhinav/Desktop/Projects/Project 3/res.xlsx' created successfully.\n"
     ]
    }
   ],
   "source": [
    "import requests\n",
    "import pandas as pd\n",
    "\n",
    "url = \"https://wyre-data.p.rapidapi.com/restaurants/town/hambleton\"\n",
    "\n",
    "headers = {\n",
    "    \"X-RapidAPI-Key\": \"85a0b65471msh751df7dcbb7aed1p1c3638jsnb8b64e7ee455\",\n",
    "    \"X-RapidAPI-Host\": \"wyre-data.p.rapidapi.com\"\n",
    "}\n",
    "\n",
    "response = requests.get(url, headers=headers)\n",
    "\n",
    "\n",
    "if response.status_code == 200:\n",
    "   \n",
    "    df = pd.DataFrame(response.json())\n",
    "\n",
    "   \n",
    "    file_path = \"/Users/Abhinav/Desktop/Projects/Project 3/fastfood raw.xlsx\"\n",
    "\n",
    "   \n",
    "    df.to_excel(file_path, index=False)\n",
    "\n",
    "    print(f\"Excel file '{file_path}' created successfully.\")\n",
    "else:\n",
    "    print(\"Error:\", response.status_code)"
   ]
  },
  {
   "cell_type": "code",
   "execution_count": null,
   "id": "35e45a63",
   "metadata": {},
   "outputs": [],
   "source": []
  }
 ],
 "metadata": {
  "kernelspec": {
   "display_name": "Python 3 (ipykernel)",
   "language": "python",
   "name": "python3"
  },
  "language_info": {
   "codemirror_mode": {
    "name": "ipython",
    "version": 3
   },
   "file_extension": ".py",
   "mimetype": "text/x-python",
   "name": "python",
   "nbconvert_exporter": "python",
   "pygments_lexer": "ipython3",
   "version": "3.11.5"
  }
 },
 "nbformat": 4,
 "nbformat_minor": 5
}
